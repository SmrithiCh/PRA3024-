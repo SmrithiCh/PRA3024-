{
  "nbformat": 4,
  "nbformat_minor": 0,
  "metadata": {
    "colab": {
      "provenance": [],
      "mount_file_id": "12aK-aKuzCs7Wi-3vNceh-VSDIoUvaFet",
      "authorship_tag": "ABX9TyNVEPNAAe+Lzx0qO7QrxDtV",
      "include_colab_link": true
    },
    "kernelspec": {
      "name": "python3",
      "display_name": "Python 3"
    },
    "language_info": {
      "name": "python"
    }
  },
  "cells": [
    {
      "cell_type": "markdown",
      "metadata": {
        "id": "view-in-github",
        "colab_type": "text"
      },
      "source": [
        "<a href=\"https://colab.research.google.com/github/SmrithiCh/PRA3024-/blob/main/PRA3024_Gravitational_Waves_W2.ipynb\" target=\"_parent\"><img src=\"https://colab.research.google.com/assets/colab-badge.svg\" alt=\"Open In Colab\"/></a>"
      ]
    },
    {
      "cell_type": "code",
      "execution_count": 3,
      "metadata": {
        "colab": {
          "base_uri": "https://localhost:8080/"
        },
        "id": "v1Yxd0yvyfAW",
        "outputId": "68efa25d-054f-48c1-d08e-e0a8a868a32d"
      },
      "outputs": [
        {
          "output_type": "stream",
          "name": "stdout",
          "text": [
            "Requirement already satisfied: pycbc in /usr/local/lib/python3.10/dist-packages (2.4.0)\n",
            "Requirement already satisfied: numpy>=1.16.0 in /usr/local/lib/python3.10/dist-packages (from pycbc) (1.25.2)\n",
            "Requirement already satisfied: cython>=0.29 in /usr/local/lib/python3.10/dist-packages (from pycbc) (3.0.8)\n",
            "Requirement already satisfied: scipy>=0.16.0 in /usr/local/lib/python3.10/dist-packages (from pycbc) (1.11.4)\n",
            "Requirement already satisfied: astropy!=4.0.5,!=4.2.1,>=2.0.3 in /usr/local/lib/python3.10/dist-packages (from pycbc) (5.3.4)\n",
            "Requirement already satisfied: matplotlib>=1.5.1 in /usr/local/lib/python3.10/dist-packages (from pycbc) (3.7.1)\n",
            "Requirement already satisfied: mpld3>=0.3 in /usr/local/lib/python3.10/dist-packages (from pycbc) (0.5.10)\n",
            "Requirement already satisfied: pillow in /usr/local/lib/python3.10/dist-packages (from pycbc) (9.4.0)\n",
            "Requirement already satisfied: h5py!=3.7.0,>=3.0.0 in /usr/local/lib/python3.10/dist-packages (from pycbc) (3.9.0)\n",
            "Requirement already satisfied: jinja2 in /usr/local/lib/python3.10/dist-packages (from pycbc) (3.1.3)\n",
            "Requirement already satisfied: Mako>=1.0.1 in /usr/local/lib/python3.10/dist-packages (from pycbc) (1.3.2)\n",
            "Requirement already satisfied: beautifulsoup4>=4.6.0 in /usr/local/lib/python3.10/dist-packages (from pycbc) (4.12.3)\n",
            "Requirement already satisfied: tqdm in /usr/local/lib/python3.10/dist-packages (from pycbc) (4.66.2)\n",
            "Requirement already satisfied: setuptools in /usr/local/lib/python3.10/dist-packages (from pycbc) (67.7.2)\n",
            "Requirement already satisfied: gwdatafind in /usr/local/lib/python3.10/dist-packages (from pycbc) (1.2.0)\n",
            "Requirement already satisfied: pegasus-wms.api>=5.0.6 in /usr/local/lib/python3.10/dist-packages (from pycbc) (5.0.7)\n",
            "Requirement already satisfied: python-ligo-lw>=1.7.0 in /usr/local/lib/python3.10/dist-packages (from pycbc) (1.8.3)\n",
            "Requirement already satisfied: ligo-segments in /usr/local/lib/python3.10/dist-packages (from pycbc) (1.4.0)\n",
            "Requirement already satisfied: lalsuite!=7.2 in /usr/local/lib/python3.10/dist-packages (from pycbc) (7.21)\n",
            "Requirement already satisfied: lscsoft-glue>=1.59.3 in /usr/local/lib/python3.10/dist-packages (from pycbc) (3.0.2)\n",
            "Requirement already satisfied: pykerr in /usr/local/lib/python3.10/dist-packages (from pycbc) (0.1.0)\n",
            "Requirement already satisfied: pyerfa>=2.0 in /usr/local/lib/python3.10/dist-packages (from astropy!=4.0.5,!=4.2.1,>=2.0.3->pycbc) (2.0.1.1)\n",
            "Requirement already satisfied: PyYAML>=3.13 in /usr/local/lib/python3.10/dist-packages (from astropy!=4.0.5,!=4.2.1,>=2.0.3->pycbc) (6.0.1)\n",
            "Requirement already satisfied: packaging>=19.0 in /usr/local/lib/python3.10/dist-packages (from astropy!=4.0.5,!=4.2.1,>=2.0.3->pycbc) (23.2)\n",
            "Requirement already satisfied: soupsieve>1.2 in /usr/local/lib/python3.10/dist-packages (from beautifulsoup4>=4.6.0->pycbc) (2.5)\n",
            "Requirement already satisfied: python-dateutil in /usr/local/lib/python3.10/dist-packages (from lalsuite!=7.2->pycbc) (2.8.2)\n",
            "Requirement already satisfied: pyOpenSSL in /usr/local/lib/python3.10/dist-packages (from lscsoft-glue>=1.59.3->pycbc) (24.0.0)\n",
            "Requirement already satisfied: pyRXP in /usr/local/lib/python3.10/dist-packages (from lscsoft-glue>=1.59.3->pycbc) (3.0.1)\n",
            "Requirement already satisfied: six in /usr/local/lib/python3.10/dist-packages (from lscsoft-glue>=1.59.3->pycbc) (1.16.0)\n",
            "Requirement already satisfied: MarkupSafe>=0.9.2 in /usr/local/lib/python3.10/dist-packages (from Mako>=1.0.1->pycbc) (2.1.5)\n",
            "Requirement already satisfied: contourpy>=1.0.1 in /usr/local/lib/python3.10/dist-packages (from matplotlib>=1.5.1->pycbc) (1.2.0)\n",
            "Requirement already satisfied: cycler>=0.10 in /usr/local/lib/python3.10/dist-packages (from matplotlib>=1.5.1->pycbc) (0.12.1)\n",
            "Requirement already satisfied: fonttools>=4.22.0 in /usr/local/lib/python3.10/dist-packages (from matplotlib>=1.5.1->pycbc) (4.49.0)\n",
            "Requirement already satisfied: kiwisolver>=1.0.1 in /usr/local/lib/python3.10/dist-packages (from matplotlib>=1.5.1->pycbc) (1.4.5)\n",
            "Requirement already satisfied: pyparsing>=2.3.1 in /usr/local/lib/python3.10/dist-packages (from matplotlib>=1.5.1->pycbc) (3.1.1)\n",
            "Requirement already satisfied: pegasus-wms.common in /usr/local/lib/python3.10/dist-packages (from pegasus-wms.api>=5.0.6->pycbc) (5.0.7)\n",
            "Requirement already satisfied: igwn-auth-utils>=0.3.1 in /usr/local/lib/python3.10/dist-packages (from gwdatafind->pycbc) (1.1.0)\n",
            "Requirement already satisfied: cryptography>=2.3 in /usr/local/lib/python3.10/dist-packages (from igwn-auth-utils>=0.3.1->gwdatafind->pycbc) (42.0.3)\n",
            "Requirement already satisfied: requests>=2.14 in /usr/local/lib/python3.10/dist-packages (from igwn-auth-utils>=0.3.1->gwdatafind->pycbc) (2.31.0)\n",
            "Requirement already satisfied: safe-netrc>=1.0.0 in /usr/local/lib/python3.10/dist-packages (from igwn-auth-utils>=0.3.1->gwdatafind->pycbc) (1.0.1)\n",
            "Requirement already satisfied: scitokens>=1.7.0 in /usr/local/lib/python3.10/dist-packages (from igwn-auth-utils>=0.3.1->gwdatafind->pycbc) (1.8.1)\n",
            "Requirement already satisfied: cffi>=1.12 in /usr/local/lib/python3.10/dist-packages (from cryptography>=2.3->igwn-auth-utils>=0.3.1->gwdatafind->pycbc) (1.16.0)\n",
            "Requirement already satisfied: charset-normalizer<4,>=2 in /usr/local/lib/python3.10/dist-packages (from requests>=2.14->igwn-auth-utils>=0.3.1->gwdatafind->pycbc) (3.3.2)\n",
            "Requirement already satisfied: idna<4,>=2.5 in /usr/local/lib/python3.10/dist-packages (from requests>=2.14->igwn-auth-utils>=0.3.1->gwdatafind->pycbc) (3.6)\n",
            "Requirement already satisfied: urllib3<3,>=1.21.1 in /usr/local/lib/python3.10/dist-packages (from requests>=2.14->igwn-auth-utils>=0.3.1->gwdatafind->pycbc) (2.0.7)\n",
            "Requirement already satisfied: certifi>=2017.4.17 in /usr/local/lib/python3.10/dist-packages (from requests>=2.14->igwn-auth-utils>=0.3.1->gwdatafind->pycbc) (2024.2.2)\n",
            "Requirement already satisfied: PyJWT>=1.6.1 in /usr/lib/python3/dist-packages (from scitokens>=1.7.0->igwn-auth-utils>=0.3.1->gwdatafind->pycbc) (2.3.0)\n",
            "Requirement already satisfied: pycparser in /usr/local/lib/python3.10/dist-packages (from cffi>=1.12->cryptography>=2.3->igwn-auth-utils>=0.3.1->gwdatafind->pycbc) (2.21)\n",
            "Requirement already satisfied: matplotlib in /usr/local/lib/python3.10/dist-packages (3.7.1)\n",
            "Requirement already satisfied: contourpy>=1.0.1 in /usr/local/lib/python3.10/dist-packages (from matplotlib) (1.2.0)\n",
            "Requirement already satisfied: cycler>=0.10 in /usr/local/lib/python3.10/dist-packages (from matplotlib) (0.12.1)\n",
            "Requirement already satisfied: fonttools>=4.22.0 in /usr/local/lib/python3.10/dist-packages (from matplotlib) (4.49.0)\n",
            "Requirement already satisfied: kiwisolver>=1.0.1 in /usr/local/lib/python3.10/dist-packages (from matplotlib) (1.4.5)\n",
            "Requirement already satisfied: numpy>=1.20 in /usr/local/lib/python3.10/dist-packages (from matplotlib) (1.25.2)\n",
            "Requirement already satisfied: packaging>=20.0 in /usr/local/lib/python3.10/dist-packages (from matplotlib) (23.2)\n",
            "Requirement already satisfied: pillow>=6.2.0 in /usr/local/lib/python3.10/dist-packages (from matplotlib) (9.4.0)\n",
            "Requirement already satisfied: pyparsing>=2.3.1 in /usr/local/lib/python3.10/dist-packages (from matplotlib) (3.1.1)\n",
            "Requirement already satisfied: python-dateutil>=2.7 in /usr/local/lib/python3.10/dist-packages (from matplotlib) (2.8.2)\n",
            "Requirement already satisfied: six>=1.5 in /usr/local/lib/python3.10/dist-packages (from python-dateutil>=2.7->matplotlib) (1.16.0)\n"
          ]
        }
      ],
      "source": [
        "! pip install pycbc\n",
        "! pip install -q 'gwpy==3.0.8'\n",
        "! pip install matplotlib"
      ]
    },
    {
      "cell_type": "markdown",
      "source": [
        "# **Set 1**: Challenge 1"
      ],
      "metadata": {
        "id": "u2RVtUoXy6a2"
      }
    },
    {
      "cell_type": "markdown",
      "source": [
        "## Question 1: Loading Data & Data Duration + Sample Rate"
      ],
      "metadata": {
        "id": "vdzvaSsxAFXj"
      }
    },
    {
      "cell_type": "code",
      "source": [
        "#loading data into memory on pyCBC\n",
        "from pycbc import frame\n",
        "pycbc_strain = frame.read_frame('challenge1.gwf', 'H1:CHALLENGE1')\n",
        "\n",
        "#loading data into memory on gwpy\n",
        "from gwpy.timeseries import TimeSeries\n",
        "gwpy_strain = TimeSeries.read('challenge1.gwf', channel=\"H1:CHALLENGE1\")"
      ],
      "metadata": {
        "id": "8aGlTjUg_-QG",
        "colab": {
          "base_uri": "https://localhost:8080/",
          "height": 838
        },
        "outputId": "9e9c6f39-63d4-4b46-f329-d28e0fc57185"
      },
      "execution_count": 2,
      "outputs": [
        {
          "output_type": "stream",
          "name": "stderr",
          "text": [
            "/usr/local/lib/python3.10/dist-packages/pycbc/types/array.py:36: UserWarning: Wswiglal-redir-stdio:\n",
            "\n",
            "SWIGLAL standard output/error redirection is enabled in IPython.\n",
            "This may lead to performance penalties. To disable locally, use:\n",
            "\n",
            "with lal.no_swig_redirect_standard_output_error():\n",
            "    ...\n",
            "\n",
            "To disable globally, use:\n",
            "\n",
            "lal.swig_redirect_standard_output_error(True)\n",
            "\n",
            "Note however that this will likely lead to error messages from\n",
            "LAL functions being either misdirected or lost when called from\n",
            "Jupyter notebooks.\n",
            "\n",
            "To suppress this warning, use:\n",
            "\n",
            "import warnings\n",
            "warnings.filterwarnings(\"ignore\", \"Wswiglal-redir-stdio\")\n",
            "import lal\n",
            "\n",
            "  import lal as _lal\n",
            "XLAL Error - XLALFrStreamFileOpen (LALFrStream.c:128): No files in stream file cache\n",
            "XLAL Error - XLALFrStreamFileOpen (LALFrStream.c:128): Invalid argument\n",
            "XLAL Error - XLALFrStreamCacheOpen (LALFrStream.c:233): Internal function call failed: Invalid argument\n"
          ]
        },
        {
          "output_type": "error",
          "ename": "RuntimeError",
          "evalue": "Internal function call failed: Invalid argument",
          "traceback": [
            "\u001b[0;31m---------------------------------------------------------------------------\u001b[0m",
            "\u001b[0;31mRuntimeError\u001b[0m                              Traceback (most recent call last)",
            "\u001b[0;32m<ipython-input-2-8059732e9305>\u001b[0m in \u001b[0;36m<cell line: 3>\u001b[0;34m()\u001b[0m\n\u001b[1;32m      1\u001b[0m \u001b[0;31m#loading data into memory on pyCBC\u001b[0m\u001b[0;34m\u001b[0m\u001b[0;34m\u001b[0m\u001b[0m\n\u001b[1;32m      2\u001b[0m \u001b[0;32mfrom\u001b[0m \u001b[0mpycbc\u001b[0m \u001b[0;32mimport\u001b[0m \u001b[0mframe\u001b[0m\u001b[0;34m\u001b[0m\u001b[0;34m\u001b[0m\u001b[0m\n\u001b[0;32m----> 3\u001b[0;31m \u001b[0mpycbc_strain\u001b[0m \u001b[0;34m=\u001b[0m \u001b[0mframe\u001b[0m\u001b[0;34m.\u001b[0m\u001b[0mread_frame\u001b[0m\u001b[0;34m(\u001b[0m\u001b[0;34m'challenge1.gwf'\u001b[0m\u001b[0;34m,\u001b[0m \u001b[0;34m'H1:CHALLENGE1'\u001b[0m\u001b[0;34m)\u001b[0m\u001b[0;34m\u001b[0m\u001b[0;34m\u001b[0m\u001b[0m\n\u001b[0m\u001b[1;32m      4\u001b[0m \u001b[0;34m\u001b[0m\u001b[0m\n\u001b[1;32m      5\u001b[0m \u001b[0;31m#loading data into memory on gwpy\u001b[0m\u001b[0;34m\u001b[0m\u001b[0;34m\u001b[0m\u001b[0m\n",
            "\u001b[0;32m/usr/local/lib/python3.10/dist-packages/pycbc/frame/frame.py\u001b[0m in \u001b[0;36mread_frame\u001b[0;34m(location, channels, start_time, end_time, duration, check_integrity, sieve)\u001b[0m\n\u001b[1;32m    203\u001b[0m                        None, None, None)\n\u001b[1;32m    204\u001b[0m \u001b[0;34m\u001b[0m\u001b[0m\n\u001b[0;32m--> 205\u001b[0;31m     \u001b[0mstream\u001b[0m \u001b[0;34m=\u001b[0m \u001b[0mlalframe\u001b[0m\u001b[0;34m.\u001b[0m\u001b[0mFrStreamCacheOpen\u001b[0m\u001b[0;34m(\u001b[0m\u001b[0mcum_cache\u001b[0m\u001b[0;34m)\u001b[0m\u001b[0;34m\u001b[0m\u001b[0;34m\u001b[0m\u001b[0m\n\u001b[0m\u001b[1;32m    206\u001b[0m     \u001b[0mstream\u001b[0m\u001b[0;34m.\u001b[0m\u001b[0mmode\u001b[0m \u001b[0;34m=\u001b[0m \u001b[0mlalframe\u001b[0m\u001b[0;34m.\u001b[0m\u001b[0mFR_STREAM_VERBOSE_MODE\u001b[0m\u001b[0;34m\u001b[0m\u001b[0;34m\u001b[0m\u001b[0m\n\u001b[1;32m    207\u001b[0m \u001b[0;34m\u001b[0m\u001b[0m\n",
            "\u001b[0;31mRuntimeError\u001b[0m: Internal function call failed: Invalid argument"
          ]
        }
      ]
    },
    {
      "cell_type": "code",
      "source": [
        "print(\"Sample Rate:\",pycbc_strain.get_sample_rate())\n",
        "print(\"Duration:\",pycbc_strain.get_duration())"
      ],
      "metadata": {
        "id": "O0QIoGMrAPe9"
      },
      "execution_count": null,
      "outputs": []
    },
    {
      "cell_type": "markdown",
      "source": [
        "## Question 2: Plotting Data in Time Domain"
      ],
      "metadata": {
        "id": "U8h1LJj1B4fq"
      }
    },
    {
      "cell_type": "code",
      "source": [
        "import matplotlib.pyplot as plt\n",
        "plot = pycbc_strain.plot()\n",
        "plt.xlabel('Time [seconds]')\n",
        "plt.ylabel('Dimensionless[]')\n",
        "plt.title('Data in Time-Domain')"
      ],
      "metadata": {
        "id": "dgyj5TaaBABB"
      },
      "execution_count": null,
      "outputs": []
    },
    {
      "cell_type": "markdown",
      "source": [
        "## Question 3: Identifying the Signal"
      ],
      "metadata": {
        "id": "jaLTJW7uCJRd"
      }
    },
    {
      "cell_type": "markdown",
      "source": [
        "### Using Spectrograms"
      ],
      "metadata": {
        "id": "UOx1ALiVCZSe"
      }
    },
    {
      "cell_type": "code",
      "source": [
        "specgram = gwpy_strain.spectrogram2(fftlength=4, overlap=2, window='hann') ** (1/2.)\n",
        "plot = specgram.plot()"
      ],
      "metadata": {
        "id": "Z0Ulvw0MCceR"
      },
      "execution_count": null,
      "outputs": []
    },
    {
      "cell_type": "markdown",
      "source": [
        "#### There seems to be a signal between 63.75 and 67.5 seconds, but it's not very clear"
      ],
      "metadata": {
        "id": "oWosliDnIOcn"
      }
    },
    {
      "cell_type": "code",
      "source": [
        "ax = plot.gca()\n",
        "ax.set_yscale('log')\n",
        "ax.set_ylim(10, 500)\n",
        "ax.colorbar(\n",
        "    clim=(1e-23, 1e-22),\n",
        "    norm=\"log\",\n",
        "    label=r\"Strain noise [$1/\\sqrt{\\mathrm{Hz}}$]\",\n",
        ")\n",
        "plot"
      ],
      "metadata": {
        "id": "Z0UTMU7PDnXB"
      },
      "execution_count": null,
      "outputs": []
    },
    {
      "cell_type": "markdown",
      "source": [
        "#### Still not clear enough, another method needs to be used"
      ],
      "metadata": {
        "id": "F9devyNYDqrb"
      }
    },
    {
      "cell_type": "markdown",
      "source": [
        "### Using Q-Transform"
      ],
      "metadata": {
        "id": "iB48eAa3Dvo5"
      }
    },
    {
      "cell_type": "code",
      "source": [
        "q1 = gwpy_strain.q_transform(frange=(30, 500), qrange=(20, 200),outseg=(0,4))\n",
        "plot = q1.plot()\n",
        "ax = plot.gca()\n",
        "ax.set_yscale('log')\n",
        "ax.colorbar(label=\"Normalised energy\")"
      ],
      "metadata": {
        "id": "FES4gUjXEPBD"
      },
      "execution_count": null,
      "outputs": []
    },
    {
      "cell_type": "markdown",
      "source": [
        "## Question 4: Time of Merger\n",
        "\n",
        "#### Time of merger as visible in the plot above is at 3.0 seconds after UTC (-64.0), i.e. at **67 seconds** after the run started"
      ],
      "metadata": {
        "id": "0EyMZSShEmLs"
      }
    },
    {
      "cell_type": "markdown",
      "source": [
        "# **Set 1**: Challenge 2"
      ],
      "metadata": {
        "id": "WCGlODMfEvQ7"
      }
    },
    {
      "cell_type": "code",
      "source": [
        "pycbc_strain2 = frame.read_frame('challenge2.gwf', 'H1:CHALLENGE2')\n",
        "gwpy_strain2 = TimeSeries.read('challenge2.gwf', channel=\"H1:CHALLENGE2\")"
      ],
      "metadata": {
        "id": "8L1HHl4kEzw3"
      },
      "execution_count": null,
      "outputs": []
    },
    {
      "cell_type": "markdown",
      "source": [
        "## Question 1: Time of Merger Estimate Using Q-Transform"
      ],
      "metadata": {
        "id": "SipJ5M-VE32H"
      }
    },
    {
      "cell_type": "code",
      "source": [
        "q2 = gwpy_strain2.q_transform(frange=(27, 400), qrange=(10, 100),outseg=(-19,-10))\n",
        "plot = q2.plot()\n",
        "ax = plot.gca()\n",
        "ax.set_yscale('log')\n",
        "ax.colorbar(label=\"Normalised energy\")"
      ],
      "metadata": {
        "id": "D1oFfZrOE6ip"
      },
      "execution_count": null,
      "outputs": []
    },
    {
      "cell_type": "markdown",
      "source": [
        "#### Time of merger as visible in the plot above is at 4.4 seconds after UTC (-19.0), i.e. **-14,6** seconds after recording started"
      ],
      "metadata": {
        "id": "zO65XoaeFAeS"
      }
    },
    {
      "cell_type": "markdown",
      "source": [
        "## Question 2: Time-Domain Template Waveform Using \"SEOBNRv4_opt\""
      ],
      "metadata": {
        "id": "zYjoPfNKFESd"
      }
    },
    {
      "cell_type": "code",
      "source": [
        "from pycbc.waveform import get_td_waveform\n",
        "import pylab"
      ],
      "metadata": {
        "id": "lfIjUQZ0FHaP"
      },
      "execution_count": null,
      "outputs": []
    },
    {
      "cell_type": "code",
      "source": [
        "sample_rate = pycbc_strain2.get_sample_rate()\n",
        "print(\"Sample Rate:\",sample_rate)"
      ],
      "metadata": {
        "id": "NVqnnWIGFJae"
      },
      "execution_count": null,
      "outputs": []
    },
    {
      "cell_type": "code",
      "source": [
        "hp, hc = get_td_waveform(approximant=\"SEOBNRv4_opt\",\n",
        "                         mass1=30,\n",
        "                         mass2=30,\n",
        "                         delta_t=1.0/sample_rate,\n",
        "                         f_lower=10)\n",
        "#spin not included here as it is 0. Moreover, the approximant cannot compute a non-zero spin.\n",
        "\n",
        "\n",
        "pylab.figure(figsize=pylab.figaspect(0.4))\n",
        "pylab.plot(hp.sample_times, hp, label='Plus Polarization')\n",
        "pylab.plot(hp.sample_times, hc, label='Cross Polarization')\n",
        "pylab.xlabel('Time (s)')\n",
        "pylab.ylabel('Strain')\n",
        "pylab.legend()\n",
        "pylab.grid()\n",
        "pylab.show()\n",
        "\n",
        "# Zoom in near the merger time\n",
        "pylab.figure(figsize=pylab.figaspect(0.4))\n",
        "pylab.plot(hp.sample_times, hp, label='Plus Polarization')\n",
        "pylab.plot(hp.sample_times, hc, label='Cross Polarization')\n",
        "pylab.xlabel('Time (s)')\n",
        "pylab.ylabel('Strain')\n",
        "pylab.xlim(-.005, .03)\n",
        "pylab.legend()\n",
        "pylab.grid()\n",
        "pylab.show()"
      ],
      "metadata": {
        "id": "2sKKR2p7FLkt"
      },
      "execution_count": null,
      "outputs": []
    },
    {
      "cell_type": "markdown",
      "source": [
        "## Question 3: Plot PSD"
      ],
      "metadata": {
        "id": "rUhUEqicSu3O"
      }
    },
    {
      "cell_type": "code",
      "source": [
        "# nyquist frequency is defined as half the sample rate\n",
        "nyquist_f = sample_rate/2\n",
        "print(\"Nyquist Frequency:\",nyquist_f)"
      ],
      "metadata": {
        "id": "BXbroBrBPWuM"
      },
      "execution_count": null,
      "outputs": []
    },
    {
      "cell_type": "code",
      "source": [
        "psd = gwpy_strain2.psd(fftlength=4, method=\"median\")\n",
        "plotpsd = psd.plot()\n",
        "ax = plotpsd.gca()\n",
        "ax.set_xlim(20, nyquist_f)\n",
        "ax.set_xscale(\"log\")\n",
        "ax.set_ylim(1e-48, 1e-42)\n",
        "ax.set_yscale(\"log\")"
      ],
      "metadata": {
        "id": "xYPiPxcELW-N"
      },
      "execution_count": null,
      "outputs": []
    },
    {
      "cell_type": "markdown",
      "source": [
        "## Question 4: Calculating the SNR time series using PSD and the Template Waveform\n",
        "\n"
      ],
      "metadata": {
        "id": "p0hETBMOaDcL"
      }
    },
    {
      "cell_type": "markdown",
      "source": [
        "#### Data Conditioning"
      ],
      "metadata": {
        "id": "QRUamFOUB03-"
      }
    },
    {
      "cell_type": "code",
      "source": [
        "import pylab\n",
        "from pycbc.filter import resample_to_delta_t, highpass"
      ],
      "metadata": {
        "id": "n-HW5DXlEXPQ"
      },
      "execution_count": null,
      "outputs": []
    },
    {
      "cell_type": "code",
      "source": [
        "#apply highpass to remove low-frequency noise\n",
        "high = highpass(pycbc_strain2, 15.0)"
      ],
      "metadata": {
        "id": "qlyygfXxky2y"
      },
      "execution_count": null,
      "outputs": []
    },
    {
      "cell_type": "code",
      "source": [
        "conditioned = high.crop(2, 2)\n",
        "len(conditioned)"
      ],
      "metadata": {
        "id": "uvF8Ulc2lbsn"
      },
      "execution_count": null,
      "outputs": []
    },
    {
      "cell_type": "markdown",
      "source": [
        "#### Making PSD & Approximant Data Consistent"
      ],
      "metadata": {
        "id": "aTC3fbuEERmQ"
      }
    },
    {
      "cell_type": "code",
      "source": [
        "m = 30 # Solar masses\n",
        "delta_t = 1.0/sample_rate\n",
        "hp, hc = get_td_waveform(approximant=\"SEOBNRv4_opt\",\n",
        "                     mass1=m,\n",
        "                     mass2=m,\n",
        "                     delta_t=conditioned.delta_t,\n",
        "                     f_lower=20)\n",
        "\n",
        "# Resize the vector to match our data\n",
        "hp.resize(len(conditioned))\n",
        "\n",
        "template = hp.cyclic_time_shift(hp.start_time)\n",
        "len(template)"
      ],
      "metadata": {
        "id": "0QM_a-4izb7v"
      },
      "execution_count": null,
      "outputs": []
    },
    {
      "cell_type": "code",
      "source": [
        "from pycbc.psd import interpolate, inverse_spectrum_truncation\n",
        "psd = conditioned.psd(4)\n",
        "psd = interpolate(psd, conditioned.delta_f)\n",
        "psd = inverse_spectrum_truncation(psd, int(4 * conditioned.sample_rate),\n",
        "                                  low_frequency_cutoff=15)"
      ],
      "metadata": {
        "id": "siaqRPie2294"
      },
      "execution_count": null,
      "outputs": []
    },
    {
      "cell_type": "markdown",
      "source": [
        "#### Plotting the SNR Time-Series"
      ],
      "metadata": {
        "id": "N-5ZSuw4asGP"
      }
    },
    {
      "cell_type": "code",
      "source": [
        "from pycbc.filter import matched_filter\n",
        "import numpy\n",
        "\n",
        "snr = matched_filter(template, conditioned,\n",
        "                     psd=psd, low_frequency_cutoff=20)\n",
        "\n",
        "# Remove time corrupted by the template and psd filters: remore 4 seconds from beginning and end of PSD\n",
        "#and 4 seconds at the end of template\n",
        "\n",
        "snr = snr.crop(4 + 4, 4)\n",
        "\n",
        "# taking an abs() to maximise over the phase of the signal\n",
        "pylab.figure(figsize=[10, 4])\n",
        "pylab.plot(snr.sample_times, abs(snr))\n",
        "pylab.ylabel('Signal-to-noise')\n",
        "pylab.xlabel('Time (s)')\n",
        "pylab.show()\n",
        "\n",
        "peak = abs(snr).numpy().argmax()\n",
        "snrp = snr[peak]\n",
        "time = snr.sample_times[peak]"
      ],
      "metadata": {
        "id": "TeReFjazaqkT"
      },
      "execution_count": null,
      "outputs": []
    },
    {
      "cell_type": "markdown",
      "source": [],
      "metadata": {
        "id": "yGW7ezNj8B8X"
      }
    },
    {
      "cell_type": "markdown",
      "source": [
        "### Question 5: Matched Filter SNR of Signal"
      ],
      "metadata": {
        "id": "72kJHBib5YW3"
      }
    },
    {
      "cell_type": "code",
      "source": [
        "print(\"Signal at {}s with SNR {}\".format(time,\n",
        "                                                    abs(snrp)))"
      ],
      "metadata": {
        "id": "PjTmZiwa5_MV"
      },
      "execution_count": null,
      "outputs": []
    },
    {
      "cell_type": "markdown",
      "source": [
        "# **Set 2**: Challenge 2"
      ],
      "metadata": {
        "id": "aApz330dEM0w"
      }
    },
    {
      "cell_type": "markdown",
      "source": [
        "## Question 1: Testing For GW signal in Data"
      ],
      "metadata": {
        "id": "YjTajQ14KdZS"
      }
    },
    {
      "cell_type": "markdown",
      "source": [
        "#### Loading Data"
      ],
      "metadata": {
        "id": "o0lqNhNXKztv"
      }
    },
    {
      "cell_type": "code",
      "source": [
        "d = numpy.load('noise_ts_4096Hz')\n",
        "time = d[:, 0]\n",
        "strain = d[:, 1]"
      ],
      "metadata": {
        "id": "Ltq2F-67HZZZ"
      },
      "execution_count": null,
      "outputs": []
    },
    {
      "cell_type": "markdown",
      "source": [
        "#### Convert data to timeseries"
      ],
      "metadata": {
        "id": "YKtitboGLKDq"
      }
    },
    {
      "cell_type": "code",
      "source": [
        "import pycbc.types\n",
        "dt = time[1] - time[0]\n",
        "data = pycbc.types.TimeSeries(d[:, 1], delta_t = dt)"
      ],
      "metadata": {
        "id": "OpFsWJKaKZp-"
      },
      "execution_count": null,
      "outputs": []
    },
    {
      "cell_type": "markdown",
      "source": [
        "#### Calculating and Plotting SNR: Mass = 5"
      ],
      "metadata": {
        "id": "5jaaj6NWM3-R"
      }
    },
    {
      "cell_type": "code",
      "source": [
        "conditioned = highpass(data, 15.0)\n",
        "conditioned = conditioned.crop(2, 2)\n",
        "\n",
        "#approximant\n",
        "m1 = 5 #lower bound\n",
        "delta_t = 1.0/sample_rate\n",
        "hp, hc = get_td_waveform(approximant=\"SEOBNRv4_opt\",\n",
        "                     mass1=m1,\n",
        "                     mass2=m1,\n",
        "                     delta_t=conditioned.delta_t,\n",
        "                     f_lower=20)\n",
        "\n",
        "hp.resize(len(conditioned))\n",
        "\n",
        "template = hp.cyclic_time_shift(hp.start_time)\n",
        "\n",
        "# PSD\n",
        "from pycbc.psd import interpolate, inverse_spectrum_truncation\n",
        "psd = conditioned.psd(4)\n",
        "psd = interpolate(psd, conditioned.delta_f)\n",
        "psd = inverse_spectrum_truncation(psd, int(4 * conditioned.sample_rate),\n",
        "                                  low_frequency_cutoff=15)\n",
        "\n",
        "#SNR\n",
        "snr = matched_filter(template, conditioned,\n",
        "                     psd=psd, low_frequency_cutoff=20)\n",
        "\n",
        "\n",
        "snr = snr.crop(4 + 4, 4)\n",
        "\n",
        "pylab.figure(figsize=[10, 4])\n",
        "pylab.plot(snr.sample_times, abs(snr))\n",
        "pylab.ylabel('Signal-to-noise')\n",
        "pylab.xlabel('Time (s)')\n",
        "pylab.show()\n",
        "\n",
        "peak = abs(snr).numpy().argmax()\n",
        "snrp = snr[peak]\n",
        "time = snr.sample_times[peak]"
      ],
      "metadata": {
        "id": "GYN89zeuLby5"
      },
      "execution_count": null,
      "outputs": []
    },
    {
      "cell_type": "markdown",
      "source": [
        "#### Calculating and Plotting SNR: Mass = 10"
      ],
      "metadata": {
        "id": "RvyC2HKaOiWJ"
      }
    },
    {
      "cell_type": "code",
      "source": [
        "conditioned = highpass(data, 15.0)\n",
        "conditioned = conditioned.crop(2, 2)\n",
        "\n",
        "#approximant\n",
        "m2 = 10 #lower bound\n",
        "delta_t = 1.0/sample_rate\n",
        "hp, hc = get_td_waveform(approximant=\"SEOBNRv4_opt\",\n",
        "                     mass1=m2,\n",
        "                     mass2=m2,\n",
        "                     delta_t=conditioned.delta_t,\n",
        "                     f_lower=20)\n",
        "\n",
        "hp.resize(len(conditioned))\n",
        "\n",
        "template = hp.cyclic_time_shift(hp.start_time)\n",
        "\n",
        "# PSD\n",
        "from pycbc.psd import interpolate, inverse_spectrum_truncation\n",
        "psd = conditioned.psd(4)\n",
        "psd = interpolate(psd, conditioned.delta_f)\n",
        "psd = inverse_spectrum_truncation(psd, int(4 * conditioned.sample_rate),\n",
        "                                  low_frequency_cutoff=15)\n",
        "\n",
        "#SNR\n",
        "snr = matched_filter(template, conditioned,\n",
        "                     psd=psd, low_frequency_cutoff=20)\n",
        "\n",
        "\n",
        "snr = snr.crop(4 + 4, 4)\n",
        "\n",
        "pylab.figure(figsize=[10, 4])\n",
        "pylab.plot(snr.sample_times, abs(snr))\n",
        "pylab.ylabel('Signal-to-noise')\n",
        "pylab.xlabel('Time (s)')\n",
        "pylab.show()\n",
        "\n",
        "peak = abs(snr).numpy().argmax()\n",
        "snrp = snr[peak]\n",
        "time = snr.sample_times[peak]"
      ],
      "metadata": {
        "id": "sWBClrdMOk54"
      },
      "execution_count": null,
      "outputs": []
    },
    {
      "cell_type": "markdown",
      "source": [
        "#### The Signal SNR Values for both Mass = 5 (**no.**) and Mass = 10 (**no.**) are greater that 8, i.e. a gravitational wave signal is present"
      ],
      "metadata": {
        "id": "Ldj8PgylPtma"
      }
    },
    {
      "cell_type": "markdown",
      "source": [
        "## Question 2: Whitening Data using noise PSD"
      ],
      "metadata": {
        "id": "0p-e83PMQMAL"
      }
    },
    {
      "cell_type": "code",
      "source": [
        "import pycbc.psd\n",
        "\n"
      ],
      "metadata": {
        "id": "-82NAJ0AZjJ8"
      },
      "execution_count": null,
      "outputs": []
    },
    {
      "cell_type": "code",
      "source": [
        "white_data = (data.to_frequencyseries() / psds[ifo]**0.5).to_timeseries()"
      ],
      "metadata": {
        "id": "8E7zCrXBRkgx"
      },
      "execution_count": null,
      "outputs": []
    }
  ]
}